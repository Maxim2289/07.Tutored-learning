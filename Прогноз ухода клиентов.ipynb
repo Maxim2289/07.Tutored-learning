{
 "cells": [
  {
   "cell_type": "markdown",
   "id": "6a5b2428",
   "metadata": {},
   "source": [
    "<h1>Содержание<span class=\"tocSkip\"></span></h1>\n",
    "<div class=\"toc\"><ul class=\"toc-item\"><li><span><a href=\"#Подготовка-данных\" data-toc-modified-id=\"Подготовка-данных-1\"><span class=\"toc-item-num\">1&nbsp;&nbsp;</span>Подготовка данных</a></span></li><li><span><a href=\"#Исследование-задачи\" data-toc-modified-id=\"Исследование-задачи-2\"><span class=\"toc-item-num\">2&nbsp;&nbsp;</span>Исследование задачи</a></span></li><li><span><a href=\"#Борьба-с-дисбалансом\" data-toc-modified-id=\"Борьба-с-дисбалансом-3\"><span class=\"toc-item-num\">3&nbsp;&nbsp;</span>Борьба с дисбалансом</a></span></li><li><span><a href=\"#Тестирование-модели\" data-toc-modified-id=\"Тестирование-модели-4\"><span class=\"toc-item-num\">4&nbsp;&nbsp;</span>Тестирование модели</a></span></li></ul></div>"
   ]
  },
  {
   "cell_type": "markdown",
   "id": "ef52a9d3",
   "metadata": {},
   "source": [
    "# Отток клиентов"
   ]
  },
  {
   "cell_type": "markdown",
   "id": "05b75937",
   "metadata": {},
   "source": [
    "Из «Бета-Банка» стали уходить клиенты. Каждый месяц. Немного, но заметно. Банковские маркетологи посчитали: сохранять текущих клиентов дешевле, чем привлекать новых.\n",
    "\n",
    "Нужно спрогнозировать, уйдёт клиент из банка в ближайшее время или нет. Вам предоставлены исторические данные о поведении клиентов и расторжении договоров с банком. \n",
    "\n",
    "Постройте модель с предельно большим значением *F1*-меры. Чтобы сдать проект успешно, нужно довести метрику до 0.59. Проверьте *F1*-меру на тестовой выборке самостоятельно.\n",
    "\n",
    "Дополнительно измеряйте *AUC-ROC*, сравнивайте её значение с *F1*-мерой.\n",
    "\n",
    "Источник данных: [https://www.kaggle.com/barelydedicated/bank-customer-churn-modeling](https://www.kaggle.com/barelydedicated/bank-customer-churn-modeling)"
   ]
  },
  {
   "cell_type": "markdown",
   "id": "3507adb0",
   "metadata": {},
   "source": [
    "## Подготовка данных"
   ]
  },
  {
   "cell_type": "code",
   "execution_count": 1,
   "id": "90a759cc",
   "metadata": {},
   "outputs": [],
   "source": [
    "import pandas as pd"
   ]
  },
  {
   "cell_type": "code",
   "execution_count": 2,
   "id": "c4711a42",
   "metadata": {},
   "outputs": [],
   "source": [
    "from sklearn.model_selection import train_test_split\n",
    "\n",
    "from sklearn.tree import DecisionTreeClassifier\n",
    "from sklearn.linear_model import LogisticRegression\n",
    "from sklearn.ensemble import RandomForestClassifier\n",
    "\n",
    "from sklearn.metrics import f1_score\n",
    "from sklearn.metrics import accuracy_score\n",
    "from sklearn.metrics import roc_auc_score\n",
    "\n",
    "from sklearn.utils import shuffle"
   ]
  },
  {
   "cell_type": "code",
   "execution_count": 3,
   "id": "7d3892a0",
   "metadata": {},
   "outputs": [],
   "source": [
    "df = pd.read_csv('/datasets/Churn.csv')"
   ]
  },
  {
   "cell_type": "code",
   "execution_count": 4,
   "id": "25cb2020",
   "metadata": {},
   "outputs": [
    {
     "data": {
      "text/html": [
       "<div>\n",
       "<style scoped>\n",
       "    .dataframe tbody tr th:only-of-type {\n",
       "        vertical-align: middle;\n",
       "    }\n",
       "\n",
       "    .dataframe tbody tr th {\n",
       "        vertical-align: top;\n",
       "    }\n",
       "\n",
       "    .dataframe thead th {\n",
       "        text-align: right;\n",
       "    }\n",
       "</style>\n",
       "<table border=\"1\" class=\"dataframe\">\n",
       "  <thead>\n",
       "    <tr style=\"text-align: right;\">\n",
       "      <th></th>\n",
       "      <th>RowNumber</th>\n",
       "      <th>CustomerId</th>\n",
       "      <th>Surname</th>\n",
       "      <th>CreditScore</th>\n",
       "      <th>Geography</th>\n",
       "      <th>Gender</th>\n",
       "      <th>Age</th>\n",
       "      <th>Tenure</th>\n",
       "      <th>Balance</th>\n",
       "      <th>NumOfProducts</th>\n",
       "      <th>HasCrCard</th>\n",
       "      <th>IsActiveMember</th>\n",
       "      <th>EstimatedSalary</th>\n",
       "      <th>Exited</th>\n",
       "    </tr>\n",
       "  </thead>\n",
       "  <tbody>\n",
       "    <tr>\n",
       "      <th>0</th>\n",
       "      <td>1</td>\n",
       "      <td>15634602</td>\n",
       "      <td>Hargrave</td>\n",
       "      <td>619</td>\n",
       "      <td>France</td>\n",
       "      <td>Female</td>\n",
       "      <td>42</td>\n",
       "      <td>2.0</td>\n",
       "      <td>0.00</td>\n",
       "      <td>1</td>\n",
       "      <td>1</td>\n",
       "      <td>1</td>\n",
       "      <td>101348.88</td>\n",
       "      <td>1</td>\n",
       "    </tr>\n",
       "    <tr>\n",
       "      <th>1</th>\n",
       "      <td>2</td>\n",
       "      <td>15647311</td>\n",
       "      <td>Hill</td>\n",
       "      <td>608</td>\n",
       "      <td>Spain</td>\n",
       "      <td>Female</td>\n",
       "      <td>41</td>\n",
       "      <td>1.0</td>\n",
       "      <td>83807.86</td>\n",
       "      <td>1</td>\n",
       "      <td>0</td>\n",
       "      <td>1</td>\n",
       "      <td>112542.58</td>\n",
       "      <td>0</td>\n",
       "    </tr>\n",
       "    <tr>\n",
       "      <th>2</th>\n",
       "      <td>3</td>\n",
       "      <td>15619304</td>\n",
       "      <td>Onio</td>\n",
       "      <td>502</td>\n",
       "      <td>France</td>\n",
       "      <td>Female</td>\n",
       "      <td>42</td>\n",
       "      <td>8.0</td>\n",
       "      <td>159660.80</td>\n",
       "      <td>3</td>\n",
       "      <td>1</td>\n",
       "      <td>0</td>\n",
       "      <td>113931.57</td>\n",
       "      <td>1</td>\n",
       "    </tr>\n",
       "    <tr>\n",
       "      <th>3</th>\n",
       "      <td>4</td>\n",
       "      <td>15701354</td>\n",
       "      <td>Boni</td>\n",
       "      <td>699</td>\n",
       "      <td>France</td>\n",
       "      <td>Female</td>\n",
       "      <td>39</td>\n",
       "      <td>1.0</td>\n",
       "      <td>0.00</td>\n",
       "      <td>2</td>\n",
       "      <td>0</td>\n",
       "      <td>0</td>\n",
       "      <td>93826.63</td>\n",
       "      <td>0</td>\n",
       "    </tr>\n",
       "    <tr>\n",
       "      <th>4</th>\n",
       "      <td>5</td>\n",
       "      <td>15737888</td>\n",
       "      <td>Mitchell</td>\n",
       "      <td>850</td>\n",
       "      <td>Spain</td>\n",
       "      <td>Female</td>\n",
       "      <td>43</td>\n",
       "      <td>2.0</td>\n",
       "      <td>125510.82</td>\n",
       "      <td>1</td>\n",
       "      <td>1</td>\n",
       "      <td>1</td>\n",
       "      <td>79084.10</td>\n",
       "      <td>0</td>\n",
       "    </tr>\n",
       "  </tbody>\n",
       "</table>\n",
       "</div>"
      ],
      "text/plain": [
       "   RowNumber  CustomerId   Surname  CreditScore Geography  Gender  Age  \\\n",
       "0          1    15634602  Hargrave          619    France  Female   42   \n",
       "1          2    15647311      Hill          608     Spain  Female   41   \n",
       "2          3    15619304      Onio          502    France  Female   42   \n",
       "3          4    15701354      Boni          699    France  Female   39   \n",
       "4          5    15737888  Mitchell          850     Spain  Female   43   \n",
       "\n",
       "   Tenure    Balance  NumOfProducts  HasCrCard  IsActiveMember  \\\n",
       "0     2.0       0.00              1          1               1   \n",
       "1     1.0   83807.86              1          0               1   \n",
       "2     8.0  159660.80              3          1               0   \n",
       "3     1.0       0.00              2          0               0   \n",
       "4     2.0  125510.82              1          1               1   \n",
       "\n",
       "   EstimatedSalary  Exited  \n",
       "0        101348.88       1  \n",
       "1        112542.58       0  \n",
       "2        113931.57       1  \n",
       "3         93826.63       0  \n",
       "4         79084.10       0  "
      ]
     },
     "execution_count": 4,
     "metadata": {},
     "output_type": "execute_result"
    }
   ],
   "source": [
    "df.head(5) #Выведим аблицу для ознокомления с ней."
   ]
  },
  {
   "cell_type": "markdown",
   "id": "8eff7d3a",
   "metadata": {},
   "source": [
    "Признаки\n",
    "\n",
    "* RowNumber — индекс строки в данных\n",
    "* CustomerId — уникальный идентификатор клиента\n",
    "* Surname — фамилия\n",
    "* CreditScore — кредитный рейтинг\n",
    "* Geography — страна проживания\n",
    "* Gender — пол\n",
    "* Age — возраст\n",
    "* Tenure — сколько лет человек является клиентом банка\n",
    "* Balance — баланс на счёте\n",
    "* NumOfProducts — количество продуктов банка, используемых клиентом\n",
    "* HasCrCard — наличие кредитной карты\n",
    "* IsActiveMember — активность клиента\n",
    "* EstimatedSalary — предполагаемая зарплата\n",
    "\n",
    "Целевой признак\n",
    "* Exited — факт ухода клиента"
   ]
  },
  {
   "cell_type": "code",
   "execution_count": 5,
   "id": "7fcaf134",
   "metadata": {},
   "outputs": [
    {
     "name": "stdout",
     "output_type": "stream",
     "text": [
      "<class 'pandas.core.frame.DataFrame'>\n",
      "RangeIndex: 10000 entries, 0 to 9999\n",
      "Data columns (total 14 columns):\n",
      " #   Column           Non-Null Count  Dtype  \n",
      "---  ------           --------------  -----  \n",
      " 0   RowNumber        10000 non-null  int64  \n",
      " 1   CustomerId       10000 non-null  int64  \n",
      " 2   Surname          10000 non-null  object \n",
      " 3   CreditScore      10000 non-null  int64  \n",
      " 4   Geography        10000 non-null  object \n",
      " 5   Gender           10000 non-null  object \n",
      " 6   Age              10000 non-null  int64  \n",
      " 7   Tenure           9091 non-null   float64\n",
      " 8   Balance          10000 non-null  float64\n",
      " 9   NumOfProducts    10000 non-null  int64  \n",
      " 10  HasCrCard        10000 non-null  int64  \n",
      " 11  IsActiveMember   10000 non-null  int64  \n",
      " 12  EstimatedSalary  10000 non-null  float64\n",
      " 13  Exited           10000 non-null  int64  \n",
      "dtypes: float64(3), int64(8), object(3)\n",
      "memory usage: 1.1+ MB\n"
     ]
    }
   ],
   "source": [
    "df.info() # Посмотрим общую информацию."
   ]
  },
  {
   "cell_type": "code",
   "execution_count": 6,
   "id": "75e46349",
   "metadata": {},
   "outputs": [
    {
     "data": {
      "text/plain": [
       "RowNumber            0\n",
       "CustomerId           0\n",
       "Surname              0\n",
       "CreditScore          0\n",
       "Geography            0\n",
       "Gender               0\n",
       "Age                  0\n",
       "Tenure             909\n",
       "Balance              0\n",
       "NumOfProducts        0\n",
       "HasCrCard            0\n",
       "IsActiveMember       0\n",
       "EstimatedSalary      0\n",
       "Exited               0\n",
       "dtype: int64"
      ]
     },
     "execution_count": 6,
     "metadata": {},
     "output_type": "execute_result"
    }
   ],
   "source": [
    "df.isna().sum() # Посмотрим пропуски."
   ]
  },
  {
   "cell_type": "markdown",
   "id": "cbe182ec",
   "metadata": {},
   "source": [
    "Пропуски у нас только в строке Tenure (сколько лет человек является клиентом банка). Могу предположить, что это из за того, что меньше года присваивается nan. Давайте посмотрим так ли это."
   ]
  },
  {
   "cell_type": "code",
   "execution_count": 7,
   "id": "c6d5dc96",
   "metadata": {},
   "outputs": [
    {
     "data": {
      "text/plain": [
       "1.0     952\n",
       "2.0     950\n",
       "8.0     933\n",
       "3.0     928\n",
       "5.0     927\n",
       "7.0     925\n",
       "4.0     885\n",
       "9.0     882\n",
       "6.0     881\n",
       "10.0    446\n",
       "0.0     382\n",
       "Name: Tenure, dtype: int64"
      ]
     },
     "execution_count": 7,
     "metadata": {},
     "output_type": "execute_result"
    }
   ],
   "source": [
    "df['Tenure'].value_counts() # Нет 0 есть тоже, значит причина в другом."
   ]
  },
  {
   "cell_type": "code",
   "execution_count": 8,
   "id": "dc2523fc",
   "metadata": {},
   "outputs": [
    {
     "name": "stdout",
     "output_type": "stream",
     "text": [
      "0\n"
     ]
    }
   ],
   "source": [
    "print(df.duplicated().sum()) # Проверим есть ли явные дублекаты"
   ]
  },
  {
   "cell_type": "markdown",
   "id": "c6cecd34",
   "metadata": {},
   "source": [
    "Поскольку мне неизвестны причины отсутствия данных, а замена их на среднее или другие цифры могут повлиять на наши модели. С учетом, что пропусков около 9% было принято решение их удалить."
   ]
  },
  {
   "cell_type": "code",
   "execution_count": 9,
   "id": "7eed9ad1",
   "metadata": {},
   "outputs": [],
   "source": [
    "df = df.dropna(subset=['Tenure'])"
   ]
  },
  {
   "cell_type": "code",
   "execution_count": 10,
   "id": "2b81b3bb",
   "metadata": {},
   "outputs": [],
   "source": [
    "df = df.reset_index(drop=True) #сброс индексов"
   ]
  },
  {
   "cell_type": "markdown",
   "id": "ec59411c",
   "metadata": {},
   "source": [
    "Далее удалим столбци с данными которые непомогут нашему датасету в обучении.\n",
    "* RowNumber — индекс строки в данных\n",
    "* CustomerId — уникальный идентификатор клиента\n",
    "* Surname — фамилия"
   ]
  },
  {
   "cell_type": "code",
   "execution_count": 11,
   "id": "0278f0b7",
   "metadata": {},
   "outputs": [],
   "source": [
    "df = df.drop(columns=['RowNumber', 'CustomerId', 'Surname'])"
   ]
  },
  {
   "cell_type": "code",
   "execution_count": 12,
   "id": "bf46fdc6",
   "metadata": {},
   "outputs": [
    {
     "data": {
      "text/html": [
       "<div>\n",
       "<style scoped>\n",
       "    .dataframe tbody tr th:only-of-type {\n",
       "        vertical-align: middle;\n",
       "    }\n",
       "\n",
       "    .dataframe tbody tr th {\n",
       "        vertical-align: top;\n",
       "    }\n",
       "\n",
       "    .dataframe thead th {\n",
       "        text-align: right;\n",
       "    }\n",
       "</style>\n",
       "<table border=\"1\" class=\"dataframe\">\n",
       "  <thead>\n",
       "    <tr style=\"text-align: right;\">\n",
       "      <th></th>\n",
       "      <th>CreditScore</th>\n",
       "      <th>Geography</th>\n",
       "      <th>Gender</th>\n",
       "      <th>Age</th>\n",
       "      <th>Tenure</th>\n",
       "      <th>Balance</th>\n",
       "      <th>NumOfProducts</th>\n",
       "      <th>HasCrCard</th>\n",
       "      <th>IsActiveMember</th>\n",
       "      <th>EstimatedSalary</th>\n",
       "      <th>Exited</th>\n",
       "    </tr>\n",
       "  </thead>\n",
       "  <tbody>\n",
       "    <tr>\n",
       "      <th>0</th>\n",
       "      <td>619</td>\n",
       "      <td>France</td>\n",
       "      <td>Female</td>\n",
       "      <td>42</td>\n",
       "      <td>2.0</td>\n",
       "      <td>0.00</td>\n",
       "      <td>1</td>\n",
       "      <td>1</td>\n",
       "      <td>1</td>\n",
       "      <td>101348.88</td>\n",
       "      <td>1</td>\n",
       "    </tr>\n",
       "    <tr>\n",
       "      <th>1</th>\n",
       "      <td>608</td>\n",
       "      <td>Spain</td>\n",
       "      <td>Female</td>\n",
       "      <td>41</td>\n",
       "      <td>1.0</td>\n",
       "      <td>83807.86</td>\n",
       "      <td>1</td>\n",
       "      <td>0</td>\n",
       "      <td>1</td>\n",
       "      <td>112542.58</td>\n",
       "      <td>0</td>\n",
       "    </tr>\n",
       "    <tr>\n",
       "      <th>2</th>\n",
       "      <td>502</td>\n",
       "      <td>France</td>\n",
       "      <td>Female</td>\n",
       "      <td>42</td>\n",
       "      <td>8.0</td>\n",
       "      <td>159660.80</td>\n",
       "      <td>3</td>\n",
       "      <td>1</td>\n",
       "      <td>0</td>\n",
       "      <td>113931.57</td>\n",
       "      <td>1</td>\n",
       "    </tr>\n",
       "    <tr>\n",
       "      <th>3</th>\n",
       "      <td>699</td>\n",
       "      <td>France</td>\n",
       "      <td>Female</td>\n",
       "      <td>39</td>\n",
       "      <td>1.0</td>\n",
       "      <td>0.00</td>\n",
       "      <td>2</td>\n",
       "      <td>0</td>\n",
       "      <td>0</td>\n",
       "      <td>93826.63</td>\n",
       "      <td>0</td>\n",
       "    </tr>\n",
       "    <tr>\n",
       "      <th>4</th>\n",
       "      <td>850</td>\n",
       "      <td>Spain</td>\n",
       "      <td>Female</td>\n",
       "      <td>43</td>\n",
       "      <td>2.0</td>\n",
       "      <td>125510.82</td>\n",
       "      <td>1</td>\n",
       "      <td>1</td>\n",
       "      <td>1</td>\n",
       "      <td>79084.10</td>\n",
       "      <td>0</td>\n",
       "    </tr>\n",
       "  </tbody>\n",
       "</table>\n",
       "</div>"
      ],
      "text/plain": [
       "   CreditScore Geography  Gender  Age  Tenure    Balance  NumOfProducts  \\\n",
       "0          619    France  Female   42     2.0       0.00              1   \n",
       "1          608     Spain  Female   41     1.0   83807.86              1   \n",
       "2          502    France  Female   42     8.0  159660.80              3   \n",
       "3          699    France  Female   39     1.0       0.00              2   \n",
       "4          850     Spain  Female   43     2.0  125510.82              1   \n",
       "\n",
       "   HasCrCard  IsActiveMember  EstimatedSalary  Exited  \n",
       "0          1               1        101348.88       1  \n",
       "1          0               1        112542.58       0  \n",
       "2          1               0        113931.57       1  \n",
       "3          0               0         93826.63       0  \n",
       "4          1               1         79084.10       0  "
      ]
     },
     "execution_count": 12,
     "metadata": {},
     "output_type": "execute_result"
    }
   ],
   "source": [
    "df.head(5) #Выведим таблицу для ознокомления с ней."
   ]
  },
  {
   "cell_type": "markdown",
   "id": "6f29c866",
   "metadata": {},
   "source": [
    "Подготовим библиотеку, данные и признаки — features и target. Разделим валидационную и обучающую выборки, в соотношении 60% на 40%. После 40% разделим пополам, чтобы получить еще тестовую выборку:"
   ]
  },
  {
   "cell_type": "code",
   "execution_count": 13,
   "id": "fd041b7c",
   "metadata": {},
   "outputs": [],
   "source": [
    "target = df['Exited']\n",
    "features = df.drop('Exited', axis=1)\n",
    "                       \n",
    "features_train, features_valid, target_train, target_valid = train_test_split(features, target, test_size=0.4, random_state=12345)\n",
    "features_valid, features_test, target_valid, target_test = train_test_split(features_valid, target_valid, test_size=0.5, random_state=12345)"
   ]
  },
  {
   "cell_type": "code",
   "execution_count": 14,
   "id": "bd72971a",
   "metadata": {},
   "outputs": [],
   "source": [
    "features_train = pd.get_dummies(features_train, drop_first=True)\n",
    "features_valid = pd.get_dummies(features_valid, drop_first=True)\n",
    "features_test = pd.get_dummies(features_test, drop_first=True)"
   ]
  },
  {
   "cell_type": "markdown",
   "id": "88746654",
   "metadata": {},
   "source": [
    "Резюме.\n",
    "* Удалили пропуски из строки Tenure\n",
    "* Удалили столбци 'RowNumber', 'CustomerId', 'Surname'\n",
    "* Разбили данные сначала на две части в 40% и 60%. После 40% еще пополам."
   ]
  },
  {
   "cell_type": "markdown",
   "id": "464e102c",
   "metadata": {},
   "source": [
    "## Исследование задачи"
   ]
  },
  {
   "cell_type": "code",
   "execution_count": 15,
   "id": "dc1a7b51",
   "metadata": {},
   "outputs": [
    {
     "data": {
      "text/plain": [
       "0    7237\n",
       "1    1854\n",
       "Name: Exited, dtype: int64"
      ]
     },
     "execution_count": 15,
     "metadata": {},
     "output_type": "execute_result"
    }
   ],
   "source": [
    "df['Exited'].value_counts() # Соотношение оставшихся и ушедших клиентов."
   ]
  },
  {
   "cell_type": "markdown",
   "id": "76fa2c74",
   "metadata": {},
   "source": [
    "Имеется дисбаланс классов. Примерно 1:4 в пользу оставшихся клиентов."
   ]
  },
  {
   "cell_type": "markdown",
   "id": "32cae66d",
   "metadata": {},
   "source": [
    "Обучение моделей:\n",
    "\n",
    "Логистическая регрессия"
   ]
  },
  {
   "cell_type": "code",
   "execution_count": 16,
   "id": "ccbb36ff",
   "metadata": {},
   "outputs": [
    {
     "name": "stdout",
     "output_type": "stream",
     "text": [
      "Accuracy 0.7882288228822882\n",
      "F1 0.06779661016949153\n",
      "AUC-ROC 0.6902552567201159\n"
     ]
    }
   ],
   "source": [
    "model_reg =  LogisticRegression()\n",
    "# Обучим модель вызовом метода fit().\n",
    "model_reg.fit(features_train, target_train)\n",
    "prediction = model_reg.predict(features_valid)\n",
    "# Чтобы посмотреть accuracy,f1,AUC-ROC модели, нужно вызвать функцию .score():\n",
    "print('Accuracy', accuracy_score(target_valid, prediction))\n",
    "\n",
    "print('F1', f1_score(target_valid, prediction))\n",
    "probabilities_valid = model_reg.predict_proba(features_valid)[:, 1]\n",
    "print(\"AUC-ROC\", roc_auc_score(target_valid, probabilities_valid))"
   ]
  },
  {
   "cell_type": "markdown",
   "id": "0b784855",
   "metadata": {},
   "source": [
    "Модель решающего дерева"
   ]
  },
  {
   "cell_type": "code",
   "execution_count": 17,
   "id": "83c2e3c1",
   "metadata": {},
   "outputs": [
    {
     "name": "stdout",
     "output_type": "stream",
     "text": [
      "Max depth 7 F1-score 0.5764331210191083\n"
     ]
    }
   ],
   "source": [
    "best_tree_model = 0\n",
    "best_tree_result = 0\n",
    "for depth in range(3, 15):\n",
    "    model_tree = DecisionTreeClassifier(random_state=12345, max_depth=depth) # обучили модель с заданной глубиной дерева\n",
    "    model_tree.fit(features_train, target_train) # обучили модель\n",
    "    prediction = model_tree.predict(features_valid) # посчитали прогноз модели\n",
    "    f1 = f1_score(target_valid, prediction)\n",
    "    if f1>best_tree_model:\n",
    "        best_tree_model=f1\n",
    "        best_tree_result=depth\n",
    "print('Max depth', best_tree_result,'F1-score', best_tree_model)"
   ]
  },
  {
   "cell_type": "code",
   "execution_count": 18,
   "id": "c04def60",
   "metadata": {},
   "outputs": [
    {
     "name": "stdout",
     "output_type": "stream",
     "text": [
      "Accuracy 0.8536853685368537\n",
      "F1 0.5764331210191083\n",
      "AUC-ROC 0.8346049843812412\n"
     ]
    }
   ],
   "source": [
    "model_tree = DecisionTreeClassifier(random_state=12345, max_depth=7)\n",
    "model_tree.fit(features_train, target_train)\n",
    "prediction = model_tree.predict(features_valid)\n",
    "print('Accuracy', accuracy_score(target_valid, prediction))\n",
    "\n",
    "\n",
    "print('F1', f1_score(target_valid, prediction))\n",
    "probabilities_valid = model_tree.predict_proba(features_valid)[:, 1]\n",
    "print(\"AUC-ROC\", roc_auc_score(target_valid, probabilities_valid))"
   ]
  },
  {
   "cell_type": "markdown",
   "id": "003fb8a9",
   "metadata": {},
   "source": [
    "Случайный лес"
   ]
  },
  {
   "cell_type": "code",
   "execution_count": 19,
   "id": "bdb6745f",
   "metadata": {},
   "outputs": [
    {
     "name": "stdout",
     "output_type": "stream",
     "text": [
      "n_estimators = 24 Max depth 14 F1-score 0.5886287625418061\n"
     ]
    }
   ],
   "source": [
    "f1_best = 0\n",
    "estim_best = 0\n",
    "depth_best = 0\n",
    "\n",
    "for estim in range (20, 30):\n",
    "    for depth in range(11, 15):\n",
    "        model = RandomForestClassifier(n_estimators=estim, max_depth=depth, random_state=12345)\n",
    "        model.fit(features_train,target_train)\n",
    "        prediction = model.predict(features_valid)\n",
    "        f1 = f1_score(target_valid, prediction)\n",
    "        if f1>f1_best:\n",
    "            f1_best=f1\n",
    "            estim_best=estim\n",
    "            depth_best=depth\n",
    "        \n",
    "\n",
    "print('n_estimators =', estim_best, 'Max depth', depth_best, 'F1-score', f1_best)"
   ]
  },
  {
   "cell_type": "code",
   "execution_count": 20,
   "id": "78ca9fb7",
   "metadata": {},
   "outputs": [
    {
     "name": "stdout",
     "output_type": "stream",
     "text": [
      "Accuracy 0.8646864686468647\n",
      "F1 0.5886287625418061\n",
      "AUC-ROC 0.8498206189703952\n"
     ]
    }
   ],
   "source": [
    "model = RandomForestClassifier(n_estimators=24, max_depth=14, random_state=12345)\n",
    "model.fit(features_train,target_train)\n",
    "prediction = model.predict(features_valid)\n",
    "print('Accuracy', accuracy_score(target_valid, prediction))\n",
    "\n",
    "print('F1', f1_score(target_valid, prediction))\n",
    "probabilities_valid = model.predict_proba(features_valid)[:, 1]\n",
    "print(\"AUC-ROC\", roc_auc_score(target_valid, probabilities_valid))"
   ]
  },
  {
   "cell_type": "markdown",
   "id": "b7a59aa4",
   "metadata": {},
   "source": [
    "Резюме.\n",
    "\n",
    "Самый лучший результат из трех моделий показал случайный лес F1 0.588. Почьти нужное значение"
   ]
  },
  {
   "cell_type": "markdown",
   "id": "65359a4d",
   "metadata": {},
   "source": [
    "## Борьба с дисбалансом"
   ]
  },
  {
   "cell_type": "markdown",
   "id": "635996f0",
   "metadata": {},
   "source": [
    "Поборемся с дисбалансом классов с помощью атрибута class_weight."
   ]
  },
  {
   "cell_type": "code",
   "execution_count": 21,
   "id": "e363b757",
   "metadata": {},
   "outputs": [
    {
     "name": "stdout",
     "output_type": "stream",
     "text": [
      "F1: 0.5018587360594795\n"
     ]
    }
   ],
   "source": [
    "# Логистическая регрессия\n",
    "model = LogisticRegression(random_state=12345, solver='liblinear', class_weight='balanced')\n",
    "model.fit(features_train, target_train)\n",
    "predicted_valid = model.predict(features_valid)\n",
    "print(\"F1:\", f1_score(target_valid, predicted_valid))"
   ]
  },
  {
   "cell_type": "code",
   "execution_count": 22,
   "id": "79c7e093",
   "metadata": {},
   "outputs": [
    {
     "name": "stdout",
     "output_type": "stream",
     "text": [
      "F1: 0.5735449735449736\n"
     ]
    }
   ],
   "source": [
    "# решающее дерева\n",
    "model_balanced = DecisionTreeClassifier(random_state=12345, max_depth=5, class_weight = 'balanced')\n",
    "model_balanced.fit(features_train, target_train)\n",
    "\n",
    "predicted_valid = model_balanced.predict(features_valid)\n",
    "f1_balanced = f1_score(target_valid, predicted_valid)\n",
    "print(\"F1:\", f1_balanced)"
   ]
  },
  {
   "cell_type": "code",
   "execution_count": 23,
   "id": "f673f3ba",
   "metadata": {},
   "outputs": [
    {
     "name": "stdout",
     "output_type": "stream",
     "text": [
      "F1: 0.6205997392438071\n"
     ]
    }
   ],
   "source": [
    "# Случайный лес\n",
    "model_balanced1 = RandomForestClassifier(n_estimators=8, random_state=12345, max_depth=11, class_weight = 'balanced')\n",
    "model_balanced1.fit(features_train, target_train)\n",
    "\n",
    "predicted_valid1 = model_balanced1.predict(features_valid)\n",
    "f1_balanced1 = f1_score(target_valid, predicted_valid1)\n",
    "print(\"F1:\", f1_balanced1)"
   ]
  },
  {
   "cell_type": "markdown",
   "id": "492e6f50",
   "metadata": {},
   "source": [
    "Лучший результат показал случайный лес F1: 0.62 В чек-листе готовности проекта есть \"Применено несколько способов борьбы с дисбалансом\". Примененим несколько способов борьбы с дисбалансом."
   ]
  },
  {
   "cell_type": "markdown",
   "id": "a316d33a",
   "metadata": {},
   "source": [
    "Увеличение выборки. Когда обучают модели, такая техника называется upsampling (от англ. up, «вверх»; sampling, «выборка»)."
   ]
  },
  {
   "cell_type": "code",
   "execution_count": 24,
   "id": "6340626f",
   "metadata": {},
   "outputs": [],
   "source": [
    "def upsample(features, target, repeat):\n",
    "    features_zeros = features[target == 0]\n",
    "    features_ones = features[target == 1]\n",
    "    target_zeros = target[target == 0]\n",
    "    target_ones = target[target == 1]\n",
    "\n",
    "    features_upsampled = pd.concat([features_zeros] + [features_ones] * repeat)\n",
    "    target_upsampled = pd.concat([target_zeros] + [target_ones] * repeat)\n",
    "    \n",
    "    features_upsampled, target_upsampled = shuffle(\n",
    "        features_upsampled, target_upsampled, random_state=12345)\n",
    "    \n",
    "    return features_upsampled, target_upsampled\n",
    "\n",
    "features_upsampled, target_upsampled = upsample(features_train, target_train, 10)\n",
    "\n"
   ]
  },
  {
   "cell_type": "code",
   "execution_count": 25,
   "id": "4de7b67e",
   "metadata": {},
   "outputs": [
    {
     "name": "stdout",
     "output_type": "stream",
     "text": [
      "F1: 0.3639067922657412\n"
     ]
    }
   ],
   "source": [
    "# Логистическая регрессия\n",
    "model_ups_reg = LogisticRegression(random_state=12345, solver='liblinear')\n",
    "model_ups_reg.fit(features_upsampled, target_upsampled)\n",
    "predicted_valid_reg = model_ups_reg.predict(features_valid)\n",
    "print(\"F1:\", f1_score(target_valid, predicted_valid_reg))"
   ]
  },
  {
   "cell_type": "markdown",
   "id": "9603379f",
   "metadata": {},
   "source": [
    "Результат стал хуже, чем в работе с помощью атрибута class_weight."
   ]
  },
  {
   "cell_type": "code",
   "execution_count": 26,
   "id": "4b6cfc9a",
   "metadata": {},
   "outputs": [
    {
     "name": "stdout",
     "output_type": "stream",
     "text": [
      "F1: 0.5361344537815127\n"
     ]
    }
   ],
   "source": [
    "# решающее дерева\n",
    "model_ups_tree = DecisionTreeClassifier(random_state=12345, max_depth=6)\n",
    "model_ups_tree.fit(features_upsampled, target_upsampled)\n",
    "predicted_valid_tree = model_ups_tree.predict(features_valid)\n",
    "f1_ups_tree = f1_score(target_valid, predicted_valid_tree)\n",
    "print(\"F1:\", f1_ups_tree)"
   ]
  },
  {
   "cell_type": "markdown",
   "id": "f400d443",
   "metadata": {},
   "source": [
    "Результат стал хуже, чем в работе с помощью атрибута class_weight."
   ]
  },
  {
   "cell_type": "code",
   "execution_count": 27,
   "id": "ebb1e1cb",
   "metadata": {},
   "outputs": [
    {
     "name": "stdout",
     "output_type": "stream",
     "text": [
      "F1: 0.5901201602136181\n"
     ]
    }
   ],
   "source": [
    "# Случайный лес\n",
    "model_ups_forest = RandomForestClassifier(n_estimators=10, random_state=12345, max_depth=15)\n",
    "model_ups_forest.fit(features_upsampled, target_upsampled)\n",
    "\n",
    "predicted_valid_forest = model_ups_forest.predict(features_valid)\n",
    "f1_ups_forest = f1_score(target_valid, predicted_valid_forest)\n",
    "print(\"F1:\", f1_ups_forest)"
   ]
  },
  {
   "cell_type": "markdown",
   "id": "b5fb18c4",
   "metadata": {},
   "source": [
    "Результат стал хуже, чем в работе с помощью атрибута class_weight."
   ]
  },
  {
   "cell_type": "markdown",
   "id": "7dd5805f",
   "metadata": {},
   "source": [
    "Резюме.\n",
    "\n",
    "Самый лучший результат показал случайный лес F1: 0.62 к которому применили атрибут class_weight."
   ]
  },
  {
   "cell_type": "markdown",
   "id": "57198cc2",
   "metadata": {},
   "source": [
    "## Тестирование модели"
   ]
  },
  {
   "cell_type": "markdown",
   "id": "57f1f807",
   "metadata": {},
   "source": [
    "Проведем обучение после балансировки данных\n",
    "\n",
    "Теперь обучим модель случайного леса поскольку она показала наилучший результат."
   ]
  },
  {
   "cell_type": "code",
   "execution_count": 28,
   "id": "7dad31ed",
   "metadata": {},
   "outputs": [
    {
     "name": "stdout",
     "output_type": "stream",
     "text": [
      "F1: 0.6105610561056105\n"
     ]
    }
   ],
   "source": [
    "model = RandomForestClassifier(n_estimators=44, random_state=12345, max_depth=14,  class_weight = 'balanced')\n",
    "model.fit(features_train, target_train)\n",
    "\n",
    "predicted_test = model.predict(features_test)\n",
    "f1 = f1_score(target_test, predicted_test)\n",
    "print(\"F1:\", f1)"
   ]
  },
  {
   "cell_type": "code",
   "execution_count": 29,
   "id": "a61f6732",
   "metadata": {},
   "outputs": [
    {
     "name": "stdout",
     "output_type": "stream",
     "text": [
      "0.8610234198546912\n"
     ]
    }
   ],
   "source": [
    "probabilities_valid = model.predict_proba(features_valid)\n",
    "probabilities_one_valid = probabilities_valid[:, 1]\n",
    "\n",
    "\n",
    "auc_roc = roc_auc_score(target_valid, probabilities_one_valid)\n",
    "print(auc_roc)"
   ]
  },
  {
   "cell_type": "markdown",
   "id": "a647673b",
   "metadata": {},
   "source": [
    "Значение метрики F1 равен 0.61, что выше заявленного минимума 0.59 в задании, так же значение auc_roc будет 0.86, что говорит о неслучайности наших значений."
   ]
  },
  {
   "cell_type": "markdown",
   "id": "8cdcde48",
   "metadata": {},
   "source": [
    "# Вывод"
   ]
  },
  {
   "cell_type": "markdown",
   "id": "e9973dc2",
   "metadata": {},
   "source": [
    "Выполняя работу мы спрогнозировали, уйдёт клиент из банка в ближайшее время или нет. С помощью машинного обучения построили модель со значением F1-меры, свыше 0.59, что дает достаточный уровень F1. Для этого была проведена следующая работа. В первичном датасете присутствовали пропуски их решили удалить, так как отсутствие 9% данным не привело бы к значимому ухудшению качества модели, а заполнение этих пропусков средним значением или медианой возможно привело бы к ложным предсказанием на практики. Далее были удалены столбцы, не участвующие в работе модели ('RowNumber', 'CustomerId', 'Surname'). Весь исходный датасет был разделен на обучающую - 60%, валтдационную - 20% и тестовую - 20% выборки. В данных имеется дисбаланс классов, примерно 1:4 в пользу оставшихся клиентов. Проверка проходила на трех моделях (Логистическая регрессия, дерева решений, случайный лес). В начале создаем модель и обучаем ее на обучающей выборке, далее настраиваем гиперпараметры и проверяем точность на валидационной. Также мы боролись с дисбалансом классов с помощью атрибута class_weight, что значительно увеличило наши покзатели и использовали другой метод, увеличение выборки (upsampling) который показал себя хуже чем class_weight. Лучшие показатели модели были у случайного леса поэтому ее использовали для тестовой выборки. Результаты проверки модели на тестовой выборке показали, что модель обладает значением F1 0.61, что выше заявленных пороговых значениий, а значит соответствует заданию. Метрика auc_roc имеет значение 0.86, что выше по сравнению с F1-мерой."
   ]
  }
 ],
 "metadata": {
  "ExecuteTimeLog": [
   {
    "duration": 53,
    "start_time": "2023-08-30T17:00:04.618Z"
   },
   {
    "duration": 446,
    "start_time": "2023-08-30T17:00:10.426Z"
   },
   {
    "duration": 791,
    "start_time": "2023-08-30T17:00:10.874Z"
   },
   {
    "duration": 83,
    "start_time": "2023-08-30T17:00:11.666Z"
   },
   {
    "duration": 21,
    "start_time": "2023-08-30T17:00:11.751Z"
   },
   {
    "duration": 26,
    "start_time": "2023-08-30T17:00:11.774Z"
   },
   {
    "duration": 0,
    "start_time": "2023-08-30T17:00:11.802Z"
   },
   {
    "duration": 0,
    "start_time": "2023-08-30T17:00:11.803Z"
   },
   {
    "duration": 0,
    "start_time": "2023-08-30T17:00:11.805Z"
   },
   {
    "duration": 0,
    "start_time": "2023-08-30T17:00:11.806Z"
   },
   {
    "duration": 0,
    "start_time": "2023-08-30T17:00:11.807Z"
   },
   {
    "duration": 0,
    "start_time": "2023-08-30T17:00:11.808Z"
   },
   {
    "duration": 0,
    "start_time": "2023-08-30T17:00:11.809Z"
   },
   {
    "duration": 0,
    "start_time": "2023-08-30T17:00:11.810Z"
   },
   {
    "duration": 0,
    "start_time": "2023-08-30T17:00:11.811Z"
   },
   {
    "duration": 0,
    "start_time": "2023-08-30T17:00:11.813Z"
   },
   {
    "duration": 0,
    "start_time": "2023-08-30T17:00:11.814Z"
   },
   {
    "duration": 0,
    "start_time": "2023-08-30T17:00:11.815Z"
   },
   {
    "duration": 0,
    "start_time": "2023-08-30T17:00:11.816Z"
   },
   {
    "duration": 0,
    "start_time": "2023-08-30T17:00:11.817Z"
   },
   {
    "duration": 0,
    "start_time": "2023-08-30T17:00:11.818Z"
   },
   {
    "duration": 0,
    "start_time": "2023-08-30T17:00:11.819Z"
   },
   {
    "duration": 0,
    "start_time": "2023-08-30T17:00:11.820Z"
   },
   {
    "duration": 0,
    "start_time": "2023-08-30T17:00:11.821Z"
   },
   {
    "duration": 373,
    "start_time": "2023-08-30T17:00:33.297Z"
   },
   {
    "duration": 733,
    "start_time": "2023-08-30T17:00:33.673Z"
   },
   {
    "duration": 42,
    "start_time": "2023-08-30T17:00:34.407Z"
   },
   {
    "duration": 22,
    "start_time": "2023-08-30T17:00:34.451Z"
   },
   {
    "duration": 16,
    "start_time": "2023-08-30T17:00:34.475Z"
   },
   {
    "duration": 9,
    "start_time": "2023-08-30T17:00:34.493Z"
   },
   {
    "duration": 6,
    "start_time": "2023-08-30T17:00:34.504Z"
   },
   {
    "duration": 12,
    "start_time": "2023-08-30T17:00:34.546Z"
   },
   {
    "duration": 7,
    "start_time": "2023-08-30T17:00:34.560Z"
   },
   {
    "duration": 100,
    "start_time": "2023-08-30T17:00:34.569Z"
   },
   {
    "duration": 26,
    "start_time": "2023-08-30T17:00:34.671Z"
   },
   {
    "duration": 59,
    "start_time": "2023-08-30T17:00:34.699Z"
   },
   {
    "duration": 16,
    "start_time": "2023-08-30T17:00:34.760Z"
   },
   {
    "duration": 21,
    "start_time": "2023-08-30T17:00:34.777Z"
   },
   {
    "duration": 63,
    "start_time": "2023-08-30T17:00:34.799Z"
   },
   {
    "duration": 0,
    "start_time": "2023-08-30T17:00:34.864Z"
   },
   {
    "duration": 0,
    "start_time": "2023-08-30T17:00:34.866Z"
   },
   {
    "duration": 0,
    "start_time": "2023-08-30T17:00:34.867Z"
   },
   {
    "duration": 0,
    "start_time": "2023-08-30T17:00:34.868Z"
   },
   {
    "duration": 0,
    "start_time": "2023-08-30T17:00:34.870Z"
   },
   {
    "duration": 0,
    "start_time": "2023-08-30T17:00:34.871Z"
   },
   {
    "duration": 0,
    "start_time": "2023-08-30T17:00:34.872Z"
   },
   {
    "duration": 0,
    "start_time": "2023-08-30T17:00:34.873Z"
   },
   {
    "duration": 428,
    "start_time": "2023-08-30T17:04:58.763Z"
   },
   {
    "duration": 806,
    "start_time": "2023-08-30T17:04:59.193Z"
   },
   {
    "duration": 43,
    "start_time": "2023-08-30T17:05:00.001Z"
   },
   {
    "duration": 21,
    "start_time": "2023-08-30T17:05:00.047Z"
   },
   {
    "duration": 52,
    "start_time": "2023-08-30T17:05:00.070Z"
   },
   {
    "duration": 17,
    "start_time": "2023-08-30T17:05:00.124Z"
   },
   {
    "duration": 43,
    "start_time": "2023-08-30T17:05:00.143Z"
   },
   {
    "duration": 31,
    "start_time": "2023-08-30T17:05:00.188Z"
   },
   {
    "duration": 27,
    "start_time": "2023-08-30T17:05:00.221Z"
   },
   {
    "duration": 34,
    "start_time": "2023-08-30T17:05:00.251Z"
   },
   {
    "duration": 62,
    "start_time": "2023-08-30T17:05:00.287Z"
   },
   {
    "duration": 125,
    "start_time": "2023-08-30T17:05:00.351Z"
   },
   {
    "duration": 54,
    "start_time": "2023-08-30T17:05:00.478Z"
   },
   {
    "duration": 131,
    "start_time": "2023-08-30T17:05:00.534Z"
   },
   {
    "duration": 326,
    "start_time": "2023-08-30T17:05:00.667Z"
   },
   {
    "duration": 0,
    "start_time": "2023-08-30T17:05:00.995Z"
   },
   {
    "duration": 0,
    "start_time": "2023-08-30T17:05:00.997Z"
   },
   {
    "duration": 0,
    "start_time": "2023-08-30T17:05:00.999Z"
   },
   {
    "duration": 0,
    "start_time": "2023-08-30T17:05:01.001Z"
   },
   {
    "duration": 0,
    "start_time": "2023-08-30T17:05:01.002Z"
   },
   {
    "duration": 0,
    "start_time": "2023-08-30T17:05:01.004Z"
   },
   {
    "duration": 1,
    "start_time": "2023-08-30T17:05:01.005Z"
   },
   {
    "duration": 0,
    "start_time": "2023-08-30T17:05:01.007Z"
   },
   {
    "duration": 0,
    "start_time": "2023-08-30T17:05:01.009Z"
   },
   {
    "duration": 0,
    "start_time": "2023-08-30T17:05:01.010Z"
   },
   {
    "duration": 0,
    "start_time": "2023-08-30T17:05:01.011Z"
   },
   {
    "duration": 0,
    "start_time": "2023-08-30T17:05:01.013Z"
   },
   {
    "duration": 0,
    "start_time": "2023-08-30T17:05:01.015Z"
   },
   {
    "duration": 0,
    "start_time": "2023-08-30T17:05:01.016Z"
   },
   {
    "duration": 0,
    "start_time": "2023-08-30T17:05:01.018Z"
   },
   {
    "duration": 399,
    "start_time": "2023-08-30T17:05:21.477Z"
   },
   {
    "duration": 857,
    "start_time": "2023-08-30T17:05:21.878Z"
   },
   {
    "duration": 45,
    "start_time": "2023-08-30T17:05:22.736Z"
   },
   {
    "duration": 22,
    "start_time": "2023-08-30T17:05:22.783Z"
   },
   {
    "duration": 14,
    "start_time": "2023-08-30T17:05:22.806Z"
   },
   {
    "duration": 20,
    "start_time": "2023-08-30T17:05:22.822Z"
   },
   {
    "duration": 11,
    "start_time": "2023-08-30T17:05:22.843Z"
   },
   {
    "duration": 36,
    "start_time": "2023-08-30T17:05:22.855Z"
   },
   {
    "duration": 10,
    "start_time": "2023-08-30T17:05:22.892Z"
   },
   {
    "duration": 5,
    "start_time": "2023-08-30T17:05:22.904Z"
   },
   {
    "duration": 9,
    "start_time": "2023-08-30T17:05:22.911Z"
   },
   {
    "duration": 24,
    "start_time": "2023-08-30T17:05:22.921Z"
   },
   {
    "duration": 29,
    "start_time": "2023-08-30T17:05:22.947Z"
   },
   {
    "duration": 29,
    "start_time": "2023-08-30T17:05:22.978Z"
   },
   {
    "duration": 10,
    "start_time": "2023-08-30T17:05:23.008Z"
   },
   {
    "duration": 830,
    "start_time": "2023-08-30T17:05:23.021Z"
   },
   {
    "duration": 384,
    "start_time": "2023-08-30T17:05:23.855Z"
   },
   {
    "duration": 31,
    "start_time": "2023-08-30T17:05:24.242Z"
   },
   {
    "duration": 6939,
    "start_time": "2023-08-30T17:05:24.276Z"
   },
   {
    "duration": 194,
    "start_time": "2023-08-30T17:05:31.217Z"
   },
   {
    "duration": 55,
    "start_time": "2023-08-30T17:05:31.412Z"
   },
   {
    "duration": 193,
    "start_time": "2023-08-30T17:05:31.470Z"
   },
   {
    "duration": 93,
    "start_time": "2023-08-30T17:05:31.666Z"
   },
   {
    "duration": 16,
    "start_time": "2023-08-30T17:05:31.761Z"
   },
   {
    "duration": 98,
    "start_time": "2023-08-30T17:05:31.779Z"
   },
   {
    "duration": 189,
    "start_time": "2023-08-30T17:05:31.880Z"
   },
   {
    "duration": 160,
    "start_time": "2023-08-30T17:05:32.071Z"
   },
   {
    "duration": 326,
    "start_time": "2023-08-30T17:05:32.234Z"
   },
   {
    "duration": 34,
    "start_time": "2023-08-30T17:05:32.562Z"
   }
  ],
  "kernelspec": {
   "display_name": "Python 3 (ipykernel)",
   "language": "python",
   "name": "python3"
  },
  "language_info": {
   "codemirror_mode": {
    "name": "ipython",
    "version": 3
   },
   "file_extension": ".py",
   "mimetype": "text/x-python",
   "name": "python",
   "nbconvert_exporter": "python",
   "pygments_lexer": "ipython3",
   "version": "3.9.5"
  },
  "toc": {
   "base_numbering": 1,
   "nav_menu": {},
   "number_sections": true,
   "sideBar": true,
   "skip_h1_title": true,
   "title_cell": "Table of Contents",
   "title_sidebar": "Contents",
   "toc_cell": false,
   "toc_position": {},
   "toc_section_display": true,
   "toc_window_display": false
  }
 },
 "nbformat": 4,
 "nbformat_minor": 5
}
